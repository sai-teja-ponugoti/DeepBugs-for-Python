{
  "nbformat": 4,
  "nbformat_minor": 0,
  "metadata": {
    "colab": {
      "name": "type_to_vector.ipynb",
      "provenance": [],
      "collapsed_sections": [],
      "authorship_tag": "ABX9TyMgxpEgwO6nWSbQKyujglq4",
      "include_colab_link": true
    },
    "kernelspec": {
      "name": "python3",
      "display_name": "Python 3"
    }
  },
  "cells": [
    {
      "cell_type": "markdown",
      "metadata": {
        "id": "view-in-github",
        "colab_type": "text"
      },
      "source": [
        "<a href=\"https://colab.research.google.com/github/sai-teja-ponugoti/DeepBugs-for-Python/blob/master/Python/type_to_vector.ipynb\" target=\"_parent\"><img src=\"https://colab.research.google.com/assets/colab-badge.svg\" alt=\"Open In Colab\"/></a>"
      ]
    },
    {
      "cell_type": "markdown",
      "metadata": {
        "id": "H4Zaw3DQD4hg",
        "colab_type": "text"
      },
      "source": [
        "The below list of literal types is obtained from learned Binary Operators using BinaryOps_extractor.py. From the list of dictionaries obtained, unique leftType and rightType operator types are extracted and converted to random binary list , co that they can used to replace literal_types while training."
      ]
    },
    {
      "cell_type": "code",
      "metadata": {
        "id": "ROkbFtaPEa0e",
        "colab_type": "code",
        "colab": {}
      },
      "source": [
        "import json\n",
        "with open(\"/content/BinaryOps.json\") as f:\n",
        "    binary_ops = json.load(f)"
      ],
      "execution_count": 4,
      "outputs": []
    },
    {
      "cell_type": "code",
      "metadata": {
        "id": "MOdGnhBdFPFi",
        "colab_type": "code",
        "colab": {}
      },
      "source": [
        "leftType = [binary_ops[c][\"leftType\"] for c in range(len(binary_ops))]\n",
        "rightType = [binary_ops[c][\"rightType\"] for c in range(len(binary_ops))]\n"
      ],
      "execution_count": 5,
      "outputs": []
    },
    {
      "cell_type": "code",
      "metadata": {
        "id": "QHgWszqRMHDU",
        "colab_type": "code",
        "colab": {
          "base_uri": "https://localhost:8080/",
          "height": 34
        },
        "outputId": "a3dc57af-0d9f-4702-9416-ba1509246312"
      },
      "source": [
        "print(set(rightType))"
      ],
      "execution_count": 6,
      "outputs": [
        {
          "output_type": "stream",
          "text": [
            "{'factor', 'const_none', 'tuple', 'const_false', 'number', 'string', 'var', 'const_true', 'list', 'funccall', 'getattr'}\n"
          ],
          "name": "stdout"
        }
      ]
    },
    {
      "cell_type": "code",
      "metadata": {
        "id": "HayoOyYwFrhD",
        "colab_type": "code",
        "colab": {
          "base_uri": "https://localhost:8080/",
          "height": 52
        },
        "outputId": "945992b0-6955-4259-ea21-4c671979c118"
      },
      "source": [
        "node_type = leftType + rightType\n",
        "print(len(set(node_type)))\n",
        "print(list(set(node_type)))"
      ],
      "execution_count": 7,
      "outputs": [
        {
          "output_type": "stream",
          "text": [
            "11\n",
            "['factor', 'const_none', 'tuple', 'const_false', 'number', 'string', 'var', 'const_true', 'list', 'funccall', 'getattr']\n"
          ],
          "name": "stdout"
        }
      ]
    },
    {
      "cell_type": "code",
      "metadata": {
        "id": "UDpY3dR2QdGN",
        "colab_type": "code",
        "colab": {}
      },
      "source": [
        "literal_type = list(set(node_type))"
      ],
      "execution_count": 27,
      "outputs": []
    },
    {
      "cell_type": "code",
      "metadata": {
        "id": "Zfgmj_wRQh8P",
        "colab_type": "code",
        "colab": {
          "base_uri": "https://localhost:8080/",
          "height": 208
        },
        "outputId": "466d3122-007b-4c22-a5d2-d32becf776bc"
      },
      "source": [
        "literal_type"
      ],
      "execution_count": 28,
      "outputs": [
        {
          "output_type": "execute_result",
          "data": {
            "text/plain": [
              "['tuple',\n",
              " 'var',\n",
              " 'funccall',\n",
              " 'factor',\n",
              " 'string',\n",
              " 'const_none',\n",
              " 'getattr',\n",
              " 'list',\n",
              " 'number',\n",
              " 'const_false',\n",
              " 'const_true']"
            ]
          },
          "metadata": {
            "tags": []
          },
          "execution_count": 28
        }
      ]
    },
    {
      "cell_type": "code",
      "metadata": {
        "id": "Jy0mR5iyNo7D",
        "colab_type": "code",
        "colab": {}
      },
      "source": [
        "literal_type = ['factor', 'none', 'tuple',  'number', 'string', 'var', 'boolean', 'list', 'funccall', 'getattr', 'unknown']"
      ],
      "execution_count": 8,
      "outputs": []
    },
    {
      "cell_type": "code",
      "metadata": {
        "id": "FI_kpEUHN37j",
        "colab_type": "code",
        "colab": {}
      },
      "source": [
        "import random\n",
        "\n",
        "literal_type_to_vector = {}\n",
        "\n",
        "for i in range(0, 11):\n",
        "    a = random.randint(16, 32)\n",
        "    # print(list(str(bin(a))[2:]))\n",
        "    literal_type_to_vector[literal_type[i]] = [int(l) for l in list(str(bin(a))[2:])]\n",
        "    # node_type_to_vector[node_type[i]] = [list(map(int, l)) for l in list(str(bin(a))[2:])]\n",
        "    # node_type_to_vector[node_type[i]] = list(str(bin(a))[2:])\n"
      ],
      "execution_count": 12,
      "outputs": []
    },
    {
      "cell_type": "code",
      "metadata": {
        "id": "gccVZBr2OMf8",
        "colab_type": "code",
        "colab": {
          "base_uri": "https://localhost:8080/",
          "height": 208
        },
        "outputId": "4574ab2c-830a-4a0c-e77f-90406b802184"
      },
      "source": [
        "literal_type_to_vector"
      ],
      "execution_count": 13,
      "outputs": [
        {
          "output_type": "execute_result",
          "data": {
            "text/plain": [
              "{'boolean': [1, 0, 0, 0, 1],\n",
              " 'factor': [1, 0, 0, 0, 0],\n",
              " 'funccall': [1, 1, 1, 0, 0],\n",
              " 'getattr': [1, 0, 0, 0, 0],\n",
              " 'list': [1, 1, 1, 1, 1],\n",
              " 'none': [1, 0, 0, 0, 1],\n",
              " 'number': [1, 0, 0, 0, 1],\n",
              " 'string': [1, 1, 1, 0, 1],\n",
              " 'tuple': [1, 1, 0, 1, 0],\n",
              " 'unknown': [1, 1, 1, 0, 0],\n",
              " 'var': [1, 0, 0, 1, 1]}"
            ]
          },
          "metadata": {
            "tags": []
          },
          "execution_count": 13
        }
      ]
    },
    {
      "cell_type": "code",
      "metadata": {
        "id": "G2cDdE32PBZ-",
        "colab_type": "code",
        "colab": {}
      },
      "source": [
        "    import json\n",
        "    with open('type_to_vector.json', 'w', encoding='utf-8') as f:\n",
        "        json.dump(literal_type_to_vector, f, separators=(',', ': '), ensure_ascii=False, indent=4)"
      ],
      "execution_count": 14,
      "outputs": []
    }
  ]
}
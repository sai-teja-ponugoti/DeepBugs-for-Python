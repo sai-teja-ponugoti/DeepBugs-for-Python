{
  "nbformat": 4,
  "nbformat_minor": 0,
  "metadata": {
    "colab": {
      "name": "type_to_vector.ipynb",
      "provenance": [],
      "collapsed_sections": [],
      "include_colab_link": true
    },
    "kernelspec": {
      "name": "python3",
      "display_name": "Python 3"
    }
  },
  "cells": [
    {
      "cell_type": "markdown",
      "metadata": {
        "id": "view-in-github",
        "colab_type": "text"
      },
      "source": [
        "<a href=\"https://colab.research.google.com/github/sai-teja-ponugoti/DeepBugs-for-Python/blob/master/Python/type_to_vector.ipynb\" target=\"_parent\"><img src=\"https://colab.research.google.com/assets/colab-badge.svg\" alt=\"Open In Colab\"/></a>"
      ]
    },
    {
      "cell_type": "markdown",
      "metadata": {
        "id": "H4Zaw3DQD4hg",
        "colab_type": "text"
      },
      "source": [
        "The below list of literal types is obtained from learned Binary Operators using BinaryOps_extractor.py. From the list of dictionaries obtained, unique leftType and rightType operator types are extracted and converted to random binary list , co that they can used to replace literal_types while training."
      ]
    },
    {
      "cell_type": "code",
      "metadata": {
        "id": "465OGf46KEP3",
        "colab_type": "code",
        "colab": {
          "base_uri": "https://localhost:8080/",
          "height": 202
        },
        "outputId": "1d1e9dd5-bdd5-4fab-8406-16020658b173"
      },
      "source": [
        "#uploading kaggle json file \n",
        "from google.colab import files\n",
        "import io\n",
        "# uploaded = files.upload()\n",
        "\n",
        "# Let's make sure the kaggle.json file is present.\n",
        "# how to upload dataset in google colab from kaggle:  https://stackoverflow.com/questions/49310470/using-kaggle-datasets-in-google-colab\n",
        "\n",
        "!ls -lha kaggle.json \n",
        "\n",
        "# Next, install the Kaggle API client.\n",
        "!pip install -q kaggle\n",
        "\n",
        "# The Kaggle API client expects this file to be in ~/.kaggle,\n",
        "# so move it there.\n",
        "!mkdir -p ~/.kaggle\n",
        "!cp kaggle.json ~/.kaggle/\n",
        "\n",
        "# This permissions change avoids a warning on Kaggle tool startup.\n",
        "!chmod 600 ~/.kaggle/kaggle.json\n",
        "\n",
        "#downloading the dataset from kaggle\n",
        "!kaggle datasets download -d saitejaponugoti/deepbugs-for-python\n",
        "\n",
        "#unzipping the dataset\n",
        "!unzip deepbugs-for-python"
      ],
      "execution_count": 15,
      "outputs": [
        {
          "output_type": "stream",
          "text": [
            "-rw-r--r-- 1 root root 70 Aug 17 06:43 kaggle.json\n",
            "Downloading deepbugs-for-python.zip to /content\n",
            " 92% 202M/220M [00:01<00:00, 148MB/s]\n",
            "100% 220M/220M [00:01<00:00, 166MB/s]\n",
            "Archive:  deepbugs-for-python.zip\n",
            "  inflating: BinaryOps_train.json    \n",
            "replace calls_eval.json? [y]es, [n]o, [A]ll, [N]one, [r]ename: n\n",
            "replace calls_train.json? [y]es, [n]o, [A]ll, [N]one, [r]ename: n\n",
            "replace node_type_to_vector.json? [y]es, [n]o, [A]ll, [N]one, [r]ename: n\n",
            "replace token_to_vector.json? [y]es, [n]o, [A]ll, [N]one, [r]ename: n\n",
            "replace type_to_vector.json? [y]es, [n]o, [A]ll, [N]one, [r]ename: n\n"
          ],
          "name": "stdout"
        }
      ]
    },
    {
      "cell_type": "code",
      "metadata": {
        "id": "ROkbFtaPEa0e",
        "colab_type": "code",
        "colab": {}
      },
      "source": [
        "import json\n",
        "with open(\"/content/BinaryOps_train.json\") as f:\n",
        "    binary_ops = json.load(f)\n",
        "with open(\"/content/calls_train.json\") as f:\n",
        "    calls = json.load(f)"
      ],
      "execution_count": 16,
      "outputs": []
    },
    {
      "cell_type": "code",
      "metadata": {
        "id": "MOdGnhBdFPFi",
        "colab_type": "code",
        "colab": {}
      },
      "source": [
        "leftType = [binary_ops[c][\"leftType\"] for c in range(len(binary_ops))]\n",
        "rightType = [binary_ops[c][\"rightType\"] for c in range(len(binary_ops))]\n",
        "\n",
        "argumentType1 = [calls[c][\"argumentTypes\"][0] for c in range(len(calls))]\n",
        "argumentType2 = [calls[c][\"argumentTypes\"][1] for c in range(len(calls))]"
      ],
      "execution_count": 17,
      "outputs": []
    },
    {
      "cell_type": "code",
      "metadata": {
        "id": "QHgWszqRMHDU",
        "colab_type": "code",
        "colab": {
          "base_uri": "https://localhost:8080/",
          "height": 54
        },
        "outputId": "927e1c78-9b5c-4836-c601-ef8c65b398be"
      },
      "source": [
        "print(set(argumentType1))"
      ],
      "execution_count": 14,
      "outputs": [
        {
          "output_type": "stream",
          "text": [
            "{'tuple', 'const_true', 'list', 'string', 'argvalue', 'or_test', 'and_test', 'getattr', 'const_false', 'atom', 'term', 'number', 'funccall', 'const_none', 'getitem', 'lambdef', 'comparison', 'arith_expr', 'factor', 'var'}\n"
          ],
          "name": "stdout"
        }
      ]
    },
    {
      "cell_type": "code",
      "metadata": {
        "id": "HayoOyYwFrhD",
        "colab_type": "code",
        "colab": {
          "base_uri": "https://localhost:8080/",
          "height": 70
        },
        "outputId": "9be08d14-38be-4d01-ba1c-3ffc5c906bab"
      },
      "source": [
        "node_type = leftType + rightType + argumentType1 + argumentType2\n",
        "print(len(set(node_type)))\n",
        "print(list(set(node_type)))"
      ],
      "execution_count": 18,
      "outputs": [
        {
          "output_type": "stream",
          "text": [
            "25\n",
            "['const_true', 'or_test', 'const_false', 'number', 'lambdef', 'factor', 'kwargs', 'string', 'starargs', 'getitem', 'var', 'dict', 'atom', 'not', 'comp_for', 'arith_expr', 'tuple', 'list', 'argvalue', 'and_test', 'getattr', 'term', 'funccall', 'const_none', 'comparison']\n"
          ],
          "name": "stdout"
        }
      ]
    },
    {
      "cell_type": "code",
      "metadata": {
        "id": "UDpY3dR2QdGN",
        "colab_type": "code",
        "colab": {}
      },
      "source": [
        "literal_type = list(set(node_type))"
      ],
      "execution_count": 19,
      "outputs": []
    },
    {
      "cell_type": "code",
      "metadata": {
        "id": "Zfgmj_wRQh8P",
        "colab_type": "code",
        "colab": {
          "base_uri": "https://localhost:8080/",
          "height": 208
        },
        "outputId": "466d3122-007b-4c22-a5d2-d32becf776bc"
      },
      "source": [
        "literal_type"
      ],
      "execution_count": null,
      "outputs": [
        {
          "output_type": "execute_result",
          "data": {
            "text/plain": [
              "['tuple',\n",
              " 'var',\n",
              " 'funccall',\n",
              " 'factor',\n",
              " 'string',\n",
              " 'const_none',\n",
              " 'getattr',\n",
              " 'list',\n",
              " 'number',\n",
              " 'const_false',\n",
              " 'const_true']"
            ]
          },
          "metadata": {
            "tags": []
          },
          "execution_count": 28
        }
      ]
    },
    {
      "cell_type": "code",
      "metadata": {
        "id": "Jy0mR5iyNo7D",
        "colab_type": "code",
        "colab": {}
      },
      "source": [
        "literal_type = ['const_true', 'const_false', 'number', 'string', 'var', 'dict', 'tuple', 'list', 'const_none', 'unknown']"
      ],
      "execution_count": 20,
      "outputs": []
    },
    {
      "cell_type": "code",
      "metadata": {
        "id": "FI_kpEUHN37j",
        "colab_type": "code",
        "colab": {}
      },
      "source": [
        "import random\n",
        "\n",
        "literal_type_to_vector = {}\n",
        "\n",
        "for i in range(0, 10):\n",
        "    a = random.randint(16, 32)\n",
        "    # print(list(str(bin(a))[2:]))\n",
        "    literal_type_to_vector[literal_type[i]] = [int(l) for l in list(str(bin(a))[2:])]\n",
        "    # node_type_to_vector[node_type[i]] = [list(map(int, l)) for l in list(str(bin(a))[2:])]\n",
        "    # node_type_to_vector[node_type[i]] = list(str(bin(a))[2:])\n"
      ],
      "execution_count": 21,
      "outputs": []
    },
    {
      "cell_type": "code",
      "metadata": {
        "id": "gccVZBr2OMf8",
        "colab_type": "code",
        "colab": {
          "base_uri": "https://localhost:8080/",
          "height": 185
        },
        "outputId": "be99a3f6-309f-4a28-e3e2-9f4c43e0b57c"
      },
      "source": [
        "literal_type_to_vector"
      ],
      "execution_count": 22,
      "outputs": [
        {
          "output_type": "execute_result",
          "data": {
            "text/plain": [
              "{'const_false': [1, 0, 0, 1, 0],\n",
              " 'const_none': [1, 0, 0, 0, 0, 0],\n",
              " 'const_true': [1, 0, 1, 0, 0],\n",
              " 'dict': [1, 0, 0, 1, 0],\n",
              " 'list': [1, 1, 0, 0, 0],\n",
              " 'number': [1, 1, 0, 0, 1],\n",
              " 'string': [1, 0, 0, 0, 0],\n",
              " 'tuple': [1, 1, 1, 0, 0],\n",
              " 'unknown': [1, 1, 1, 1, 0],\n",
              " 'var': [1, 1, 1, 0, 1]}"
            ]
          },
          "metadata": {
            "tags": []
          },
          "execution_count": 22
        }
      ]
    },
    {
      "cell_type": "code",
      "metadata": {
        "id": "G2cDdE32PBZ-",
        "colab_type": "code",
        "colab": {}
      },
      "source": [
        "    import json\n",
        "    with open('type_to_vector.json', 'w', encoding='utf-8') as f:\n",
        "        json.dump(literal_type_to_vector, f, separators=(',', ': '), ensure_ascii=False, indent=4)"
      ],
      "execution_count": 23,
      "outputs": []
    }
  ]
}
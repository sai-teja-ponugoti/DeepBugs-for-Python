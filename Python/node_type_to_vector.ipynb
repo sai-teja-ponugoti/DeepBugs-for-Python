{
  "nbformat": 4,
  "nbformat_minor": 0,
  "metadata": {
    "colab": {
      "name": "node_type_to_vector.ipynb",
      "provenance": [],
      "collapsed_sections": [],
      "authorship_tag": "ABX9TyPHKeH7E22a045v764gmuPg",
      "include_colab_link": true
    },
    "kernelspec": {
      "name": "python3",
      "display_name": "Python 3"
    }
  },
  "cells": [
    {
      "cell_type": "markdown",
      "metadata": {
        "id": "view-in-github",
        "colab_type": "text"
      },
      "source": [
        "<a href=\"https://colab.research.google.com/github/sai-teja-ponugoti/DeepBugs-for-Python/blob/master/Python/node_type_to_vector.ipynb\" target=\"_parent\"><img src=\"https://colab.research.google.com/assets/colab-badge.svg\" alt=\"Open In Colab\"/></a>"
      ]
    },
    {
      "cell_type": "markdown",
      "metadata": {
        "id": "wci3GdJpRsfP",
        "colab_type": "text"
      },
      "source": [
        "The below list of node types is obtained from learned Binary Operators using BinaryOps_extractor.py. From the list of dictionries obtained, uniques parent and grand parent node type are extracted and converted to random binary list , co that they can used to replace node_types while training."
      ]
    },
    {
      "cell_type": "code",
      "metadata": {
        "id": "0ysME0EYQ-Dk",
        "colab_type": "code",
        "colab": {}
      },
      "source": [
        "import json\n",
        "with open(\"/content/BinaryOps.json\") as f:\n",
        "    binary_ops = json.load(f)"
      ],
      "execution_count": null,
      "outputs": []
    },
    {
      "cell_type": "code",
      "metadata": {
        "id": "rWfVVrv1RC37",
        "colab_type": "code",
        "colab": {}
      },
      "source": [
        "parent_type = [binary_ops[c][\"parent\"] for c in range(len(binary_ops))]\n",
        "grandparent_type = [binary_ops[c][\"grandParent\"] for c in range(len(binary_ops))]"
      ],
      "execution_count": 13,
      "outputs": []
    },
    {
      "cell_type": "code",
      "metadata": {
        "id": "-mV0-SA7RQvT",
        "colab_type": "code",
        "colab": {
          "base_uri": "https://localhost:8080/",
          "height": 72
        },
        "outputId": "b24b6cff-6e30-4f92-9825-352d69cf02bf"
      },
      "source": [
        "node_type = parent_type + grandparent_type\n",
        "print(len(set(node_type)))\n",
        "print(list(set(node_type)))"
      ],
      "execution_count": 14,
      "outputs": [
        {
          "output_type": "stream",
          "text": [
            "51\n",
            "['compound_stmt', 'decorator', 'arguments', 'kwargs', 'term', 'comp_iter', 'expr', 'getitem', 'sliceop', 'raise_stmt', 'dict', 'not', 'testlist', 'tuple', 'simple_stmt', 'suite', 'comparison', 'return_stmt', 'try_stmt', 'arith_expr', 'lambdef', 'classdef', 'and_test', 'or_test', 'while_stmt', 'paramvalue', 'for_stmt', 'factor', 'funccall', 'logic_expr', 'with_stmt', 'subscriptlist', 'yield_arg', 'subscript', 'testlist_comp', 'getattr', 'if_stmt', 'assert_stmt', 'power', 'parameters', 'argvalue', 'list', 'dictorsetmaker', 'testlist_star_expr', 'funcdef', 'starargs', 'expr_stmt', 'file_input', 'test', 'comp_if', 'comp_for']\n"
          ],
          "name": "stdout"
        }
      ]
    },
    {
      "cell_type": "code",
      "metadata": {
        "id": "Ypw-t5kDRYo5",
        "colab_type": "code",
        "colab": {}
      },
      "source": [
        "node_type = list(set(node_type))\n",
        "node_type.append(\"unknown\")"
      ],
      "execution_count": 15,
      "outputs": []
    },
    {
      "cell_type": "code",
      "metadata": {
        "id": "Jy0mR5iyNo7D",
        "colab_type": "code",
        "colab": {
          "base_uri": "https://localhost:8080/",
          "height": 34
        },
        "outputId": "ce615667-ce99-48d8-9c5a-8f781b820d3d"
      },
      "source": [
        "len(set(node_type))"
      ],
      "execution_count": 16,
      "outputs": [
        {
          "output_type": "execute_result",
          "data": {
            "text/plain": [
              "52"
            ]
          },
          "metadata": {
            "tags": []
          },
          "execution_count": 16
        }
      ]
    },
    {
      "cell_type": "code",
      "metadata": {
        "id": "FI_kpEUHN37j",
        "colab_type": "code",
        "colab": {}
      },
      "source": [
        "import random\n",
        "\n",
        "node_type_to_vector = {}\n",
        "\n",
        "for i in range(0, 51):\n",
        "    a = random.randint(128, 256)\n",
        "    # print(list(str(bin(a))[2:]))\n",
        "    node_type_to_vector[node_type[i]] = [int(l) for l in list(str(bin(a))[2:])]\n",
        "    # node_type_to_vector[node_type[i]] = [list(map(int, l)) for l in list(str(bin(a))[2:])]\n",
        "    # node_type_to_vector[node_type[i]] = list(str(bin(a))[2:])\n"
      ],
      "execution_count": 17,
      "outputs": []
    },
    {
      "cell_type": "code",
      "metadata": {
        "id": "gccVZBr2OMf8",
        "colab_type": "code",
        "colab": {
          "base_uri": "https://localhost:8080/",
          "height": 903
        },
        "outputId": "d0100afd-1002-4d63-b14b-0cd1c9e74d01"
      },
      "source": [
        "node_type_to_vector"
      ],
      "execution_count": 18,
      "outputs": [
        {
          "output_type": "execute_result",
          "data": {
            "text/plain": [
              "{'and_test': [1, 1, 1, 0, 1, 1, 1, 1],\n",
              " 'arguments': [1, 0, 1, 0, 1, 0, 0, 0],\n",
              " 'argvalue': [1, 1, 0, 1, 1, 1, 0, 1],\n",
              " 'arith_expr': [1, 1, 0, 1, 0, 0, 0, 0],\n",
              " 'assert_stmt': [1, 1, 1, 1, 0, 0, 1, 1],\n",
              " 'classdef': [1, 1, 1, 1, 1, 1, 0, 0],\n",
              " 'comp_for': [1, 1, 1, 1, 0, 0, 0, 0],\n",
              " 'comp_if': [1, 0, 1, 0, 0, 0, 1, 1],\n",
              " 'comp_iter': [1, 0, 0, 1, 1, 1, 1, 1],\n",
              " 'comparison': [1, 1, 0, 0, 0, 0, 0, 1],\n",
              " 'compound_stmt': [1, 0, 0, 0, 1, 0, 0, 0],\n",
              " 'decorator': [1, 1, 1, 0, 1, 0, 1, 1],\n",
              " 'dict': [1, 0, 1, 1, 1, 0, 0, 0],\n",
              " 'dictorsetmaker': [1, 0, 0, 1, 0, 0, 1, 0],\n",
              " 'expr': [1, 1, 0, 0, 0, 1, 1, 1],\n",
              " 'expr_stmt': [1, 1, 1, 1, 0, 0, 0, 1],\n",
              " 'factor': [1, 0, 1, 0, 0, 0, 0, 0],\n",
              " 'file_input': [1, 0, 0, 1, 0, 0, 1, 1],\n",
              " 'for_stmt': [1, 1, 0, 1, 0, 0, 0, 1],\n",
              " 'funccall': [1, 0, 1, 1, 1, 0, 0, 0],\n",
              " 'funcdef': [1, 0, 1, 1, 0, 0, 1, 0],\n",
              " 'getattr': [1, 1, 0, 0, 0, 0, 1, 0],\n",
              " 'getitem': [1, 0, 1, 0, 0, 1, 0, 0],\n",
              " 'if_stmt': [1, 0, 1, 0, 1, 0, 1, 1],\n",
              " 'kwargs': [1, 0, 1, 1, 1, 1, 0, 1],\n",
              " 'lambdef': [1, 0, 1, 1, 1, 0, 0, 1],\n",
              " 'list': [1, 0, 0, 0, 0, 0, 1, 1],\n",
              " 'logic_expr': [1, 1, 0, 1, 0, 1, 0, 0],\n",
              " 'not': [1, 1, 1, 1, 0, 0, 1, 0],\n",
              " 'or_test': [1, 0, 1, 0, 1, 1, 1, 1],\n",
              " 'parameters': [1, 0, 0, 1, 0, 1, 0, 1],\n",
              " 'paramvalue': [1, 0, 1, 0, 1, 1, 1, 1],\n",
              " 'power': [1, 1, 1, 1, 0, 0, 0, 0],\n",
              " 'raise_stmt': [1, 0, 1, 1, 1, 1, 1, 1],\n",
              " 'return_stmt': [1, 1, 1, 0, 0, 1, 0, 0],\n",
              " 'simple_stmt': [1, 1, 1, 0, 1, 1, 0, 0],\n",
              " 'sliceop': [1, 1, 0, 1, 1, 0, 0, 0],\n",
              " 'starargs': [1, 0, 0, 1, 0, 1, 1, 0],\n",
              " 'subscript': [1, 1, 1, 0, 0, 0, 1, 0],\n",
              " 'subscriptlist': [1, 0, 1, 1, 0, 0, 0, 0],\n",
              " 'suite': [1, 0, 0, 0, 1, 0, 1, 1],\n",
              " 'term': [1, 0, 1, 0, 1, 1, 0, 1],\n",
              " 'test': [1, 0, 0, 0, 0, 1, 1, 0],\n",
              " 'testlist': [1, 0, 0, 1, 0, 1, 0, 1],\n",
              " 'testlist_comp': [1, 0, 0, 0, 1, 0, 0, 1],\n",
              " 'testlist_star_expr': [1, 1, 0, 1, 0, 0, 0, 1],\n",
              " 'try_stmt': [1, 1, 0, 1, 1, 1, 0, 1],\n",
              " 'tuple': [1, 0, 1, 1, 0, 1, 0, 1],\n",
              " 'while_stmt': [1, 0, 0, 0, 0, 1, 0, 1],\n",
              " 'with_stmt': [1, 1, 0, 1, 1, 0, 1, 0],\n",
              " 'yield_arg': [1, 1, 0, 0, 0, 1, 0, 0]}"
            ]
          },
          "metadata": {
            "tags": []
          },
          "execution_count": 18
        }
      ]
    },
    {
      "cell_type": "code",
      "metadata": {
        "id": "5gTRfFSxP1VW",
        "colab_type": "code",
        "colab": {}
      },
      "source": [
        "# node_type_to_vector = [list(map(int, l)) for l in node_type_to_vector]"
      ],
      "execution_count": null,
      "outputs": []
    },
    {
      "cell_type": "code",
      "metadata": {
        "id": "G2cDdE32PBZ-",
        "colab_type": "code",
        "colab": {}
      },
      "source": [
        "    import json\n",
        "    with open('node_type_to_vector.json', 'w', encoding='utf-8') as f:\n",
        "        json.dump(node_type_to_vector, f, separators=(',', ': '), ensure_ascii=False, indent=4)"
      ],
      "execution_count": 19,
      "outputs": []
    },
    {
      "cell_type": "code",
      "metadata": {
        "id": "lDexkCFKPRH9",
        "colab_type": "code",
        "colab": {}
      },
      "source": [
        ""
      ],
      "execution_count": null,
      "outputs": []
    }
  ]
}
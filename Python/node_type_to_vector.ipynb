{
  "nbformat": 4,
  "nbformat_minor": 0,
  "metadata": {
    "colab": {
      "name": "node_type_to_vector.ipynb",
      "provenance": [],
      "collapsed_sections": [],
      "authorship_tag": "ABX9TyONXL2vkcHkDW5nZGsyOkCf",
      "include_colab_link": true
    },
    "kernelspec": {
      "name": "python3",
      "display_name": "Python 3"
    }
  },
  "cells": [
    {
      "cell_type": "markdown",
      "metadata": {
        "id": "view-in-github",
        "colab_type": "text"
      },
      "source": [
        "<a href=\"https://colab.research.google.com/github/sai-teja-ponugoti/DeepBugs-for-Python/blob/master/Python/node_type_to_vector.ipynb\" target=\"_parent\"><img src=\"https://colab.research.google.com/assets/colab-badge.svg\" alt=\"Open In Colab\"/></a>"
      ]
    },
    {
      "cell_type": "markdown",
      "metadata": {
        "id": "wci3GdJpRsfP",
        "colab_type": "text"
      },
      "source": [
        "The below list of node types is obtained from learned Binary Operators using BinaryOps_extractor.py. From the list of dictionries obtained, uniques parent and grand parent node type are extracted and converted to random binary list , co that they can used to replace node_types while training."
      ]
    },
    {
      "cell_type": "code",
      "metadata": {
        "id": "Jy0mR5iyNo7D",
        "colab_type": "code",
        "colab": {}
      },
      "source": [
        "\n",
        "node_type = ['and_test',\n",
        " 'arguments',\n",
        " 'argvalue',\n",
        " 'arith_expr',\n",
        " 'assert_stmt',\n",
        " 'classdef',\n",
        " 'comp_for',\n",
        " 'comp_if',\n",
        " 'comp_iter',\n",
        " 'comparison',\n",
        " 'compound_stmt',\n",
        " 'decorator',\n",
        " 'dict',\n",
        " 'dictorsetmaker',\n",
        " 'expr',\n",
        " 'expr_stmt',\n",
        " 'factor',\n",
        " 'file_input',\n",
        " 'for_stmt',\n",
        " 'funccall',\n",
        " 'funcdef',\n",
        " 'getattr',\n",
        " 'getitem',\n",
        " 'if_stmt',\n",
        " 'lambdef',\n",
        " 'list',\n",
        " 'logic_expr',\n",
        " 'not',\n",
        " 'or_test',\n",
        " 'parameters',\n",
        " 'paramvalue',\n",
        " 'power',\n",
        " 'return_stmt',\n",
        " 'simple_stmt',\n",
        " 'sliceop',\n",
        " 'starargs',\n",
        " 'subscript',\n",
        " 'subscriptlist',\n",
        " 'suite',\n",
        " 'term',\n",
        " 'test',\n",
        " 'testlist',\n",
        " 'testlist_comp',\n",
        " 'testlist_star_expr',\n",
        " 'try_stmt',\n",
        " 'tuple',\n",
        " 'while_stmt',\n",
        " 'with_stmt',\n",
        " 'yield_arg']"
      ],
      "execution_count": 2,
      "outputs": []
    },
    {
      "cell_type": "code",
      "metadata": {
        "id": "FI_kpEUHN37j",
        "colab_type": "code",
        "colab": {}
      },
      "source": [
        "import random\n",
        "\n",
        "node_type_to_vector = {}\n",
        "\n",
        "for i in range(0, 49):\n",
        "    a = random.randint(65, 127)\n",
        "    # print(list(str(bin(a))[2:]))\n",
        "    node_type_to_vector[node_type[i]] = [int(l) for l in list(str(bin(a))[2:])]\n",
        "    # node_type_to_vector[node_type[i]] = [list(map(int, l)) for l in list(str(bin(a))[2:])]\n",
        "    # node_type_to_vector[node_type[i]] = list(str(bin(a))[2:])\n"
      ],
      "execution_count": 15,
      "outputs": []
    },
    {
      "cell_type": "code",
      "metadata": {
        "id": "gccVZBr2OMf8",
        "colab_type": "code",
        "colab": {
          "base_uri": "https://localhost:8080/",
          "height": 850
        },
        "outputId": "a7f19704-9a8c-41b1-e326-33dfe58e8629"
      },
      "source": [
        "node_type_to_vector"
      ],
      "execution_count": 16,
      "outputs": [
        {
          "output_type": "execute_result",
          "data": {
            "text/plain": [
              "{'and_test': [1, 1, 0, 0, 1, 0, 0],\n",
              " 'arguments': [1, 1, 0, 0, 0, 0, 0],\n",
              " 'argvalue': [1, 0, 0, 1, 1, 1, 1],\n",
              " 'arith_expr': [1, 0, 1, 0, 1, 0, 0],\n",
              " 'assert_stmt': [1, 0, 1, 1, 1, 1, 1],\n",
              " 'classdef': [1, 1, 1, 0, 0, 0, 0],\n",
              " 'comp_for': [1, 1, 1, 1, 1, 1, 0],\n",
              " 'comp_if': [1, 0, 0, 1, 1, 0, 1],\n",
              " 'comp_iter': [1, 0, 1, 0, 0, 1, 0],\n",
              " 'comparison': [1, 0, 0, 0, 0, 1, 0],\n",
              " 'compound_stmt': [1, 1, 1, 0, 0, 0, 0],\n",
              " 'decorator': [1, 1, 0, 1, 0, 1, 0],\n",
              " 'dict': [1, 0, 0, 1, 0, 0, 0],\n",
              " 'dictorsetmaker': [1, 0, 0, 1, 0, 1, 0],\n",
              " 'expr': [1, 1, 1, 1, 0, 1, 0],\n",
              " 'expr_stmt': [1, 0, 0, 0, 1, 1, 0],\n",
              " 'factor': [1, 1, 1, 0, 1, 1, 0],\n",
              " 'file_input': [1, 0, 1, 1, 0, 1, 0],\n",
              " 'for_stmt': [1, 1, 0, 1, 0, 1, 0],\n",
              " 'funccall': [1, 0, 0, 0, 1, 1, 1],\n",
              " 'funcdef': [1, 0, 1, 1, 0, 0, 0],\n",
              " 'getattr': [1, 0, 1, 0, 1, 0, 1],\n",
              " 'getitem': [1, 1, 1, 1, 0, 0, 1],\n",
              " 'if_stmt': [1, 1, 1, 1, 1, 0, 0],\n",
              " 'lambdef': [1, 0, 0, 1, 1, 0, 0],\n",
              " 'list': [1, 1, 0, 0, 1, 0, 0],\n",
              " 'logic_expr': [1, 1, 1, 0, 0, 1, 1],\n",
              " 'not': [1, 1, 1, 1, 0, 1, 1],\n",
              " 'or_test': [1, 1, 0, 1, 1, 0, 1],\n",
              " 'parameters': [1, 1, 0, 0, 0, 0, 1],\n",
              " 'paramvalue': [1, 0, 1, 1, 1, 1, 1],\n",
              " 'power': [1, 1, 1, 0, 0, 0, 1],\n",
              " 'return_stmt': [1, 0, 1, 0, 1, 1, 0],\n",
              " 'simple_stmt': [1, 1, 0, 0, 1, 1, 0],\n",
              " 'sliceop': [1, 0, 1, 0, 0, 1, 1],\n",
              " 'starargs': [1, 0, 1, 1, 0, 1, 0],\n",
              " 'subscript': [1, 0, 0, 1, 0, 1, 1],\n",
              " 'subscriptlist': [1, 1, 1, 1, 1, 0, 1],\n",
              " 'suite': [1, 0, 0, 0, 0, 1, 0],\n",
              " 'term': [1, 0, 1, 1, 1, 0, 0],\n",
              " 'test': [1, 0, 0, 0, 0, 1, 0],\n",
              " 'testlist': [1, 1, 0, 0, 0, 1, 0],\n",
              " 'testlist_comp': [1, 0, 1, 0, 0, 1, 1],\n",
              " 'testlist_star_expr': [1, 1, 0, 0, 0, 0, 1],\n",
              " 'try_stmt': [1, 0, 1, 0, 0, 0, 0],\n",
              " 'tuple': [1, 0, 1, 1, 0, 1, 1],\n",
              " 'while_stmt': [1, 1, 0, 0, 1, 1, 0],\n",
              " 'with_stmt': [1, 0, 1, 1, 0, 0, 1],\n",
              " 'yield_arg': [1, 0, 0, 0, 0, 1, 0]}"
            ]
          },
          "metadata": {
            "tags": []
          },
          "execution_count": 16
        }
      ]
    },
    {
      "cell_type": "code",
      "metadata": {
        "id": "5gTRfFSxP1VW",
        "colab_type": "code",
        "colab": {}
      },
      "source": [
        "# node_type_to_vector = [list(map(int, l)) for l in node_type_to_vector]"
      ],
      "execution_count": 18,
      "outputs": []
    },
    {
      "cell_type": "code",
      "metadata": {
        "id": "G2cDdE32PBZ-",
        "colab_type": "code",
        "colab": {}
      },
      "source": [
        "    import json\n",
        "    with open('node_type_to_vector.json', 'w', encoding='utf-8') as f:\n",
        "        json.dump(node_type_to_vector, f, separators=(',', ': '), ensure_ascii=False, indent=4)"
      ],
      "execution_count": 19,
      "outputs": []
    },
    {
      "cell_type": "code",
      "metadata": {
        "id": "lDexkCFKPRH9",
        "colab_type": "code",
        "colab": {}
      },
      "source": [
        ""
      ],
      "execution_count": null,
      "outputs": []
    }
  ]
}